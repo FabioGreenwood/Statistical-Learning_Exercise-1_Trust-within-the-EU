{
 "cells": [
  {
   "cell_type": "code",
   "execution_count": 1,
   "metadata": {},
   "outputs": [],
   "source": [
    "import numpy as np\n",
    "import pandas as pd\n",
    "import os\n",
    "import seaborn as sns\n",
    "import matplotlib.pyplot\n",
    "import sklearn.linear_model\n",
    "import matplotlib.pyplot as plt\n",
    "import pyreadstat\n",
    "import datetime\n",
    "import FG_Methods_1\n",
    "import tabulate\n",
    "import seaborn as sns\n",
    "\n",
    "import warnings\n",
    "\n",
    "warnings.filterwarnings(\"ignore\")"
   ]
  },
  {
   "cell_type": "code",
   "execution_count": 2,
   "metadata": {},
   "outputs": [
    {
     "name": "stdout",
     "output_type": "stream",
     "text": [
      "<class 'pandas.core.frame.DataFrame'>\n",
      "Int64Index: 38718 entries, 0 to 38717\n",
      "Columns: 479 entries, studyno1 to w87\n",
      "dtypes: float64(284), int16(5), int32(3), int8(184), object(3)\n",
      "memory usage: 92.7+ MB\n",
      "['AL', 'AT', 'BA', 'BE', 'BG', 'CH', 'CY', 'CY-TCC', 'CZ', 'DE-E', 'DE-W', 'DK', 'EE', 'ES', 'FI', 'FR', 'GB', 'GR', 'HR', 'HU', 'IE', 'IS', 'IT', 'LT', 'LU', 'LV', 'ME', 'MK', 'MT', 'NL', 'NO', 'PL', 'PT', 'RO', 'RS', 'RS-KM', 'SE', 'SI', 'SK', 'TR']\n"
     ]
    }
   ],
   "source": [
    "# Initialise Values\n",
    "\n",
    "df_path = \"C:\\\\Users\\\\fabio\\\\OneDrive\\\\Documents\\\\Studies\\\\Social_Research\\\\data\\\\ZA7780_v1-0-0.dta\"\n",
    "df = pd.read_stata(df_path, convert_categoricals=False)\n",
    "df.info()\n",
    "\n",
    "unique_country_codes = set(df[\"isocntry\"].values)\n",
    "unique_country_codes = sorted(unique_country_codes)\n",
    "print(unique_country_codes)"
   ]
  },
  {
   "cell_type": "code",
   "execution_count": 3,
   "metadata": {},
   "outputs": [
    {
     "data": {
      "text/plain": [
       "'project_folder = \"C:\\\\Users\\\\fabio\\\\OneDrive\\\\Documents\\\\Studies\\\\Social_Research\\\\\"\\n\\ndf_column_headers = \"\"\\nfor i in df.columns:\\n    if i == df.columns[0]:\\n        df_column_headers = i\\n    else:\\n        df_column_headers = df_column_headers + \", \" + i\\n\\nnp.savetxt(project_folder + \\'social_research_dataframe.csv\\',  np.asarray(df), header=df_column_headers, delimiter=\\',\\', fmt=\\'%s\\')'"
      ]
     },
     "execution_count": 3,
     "metadata": {},
     "output_type": "execute_result"
    }
   ],
   "source": [
    "#Output Dataframe as csv\n",
    "\n",
    "\"\"\"project_folder = \"C:\\\\Users\\\\fabio\\\\OneDrive\\\\Documents\\\\Studies\\\\Social_Research\\\\\"\n",
    "\n",
    "df_column_headers = \"\"\n",
    "for i in df.columns:\n",
    "    if i == df.columns[0]:\n",
    "        df_column_headers = i\n",
    "    else:\n",
    "        df_column_headers = df_column_headers + \", \" + i\n",
    "\n",
    "np.savetxt(project_folder + 'social_research_dataframe.csv',  np.asarray(df), header=df_column_headers, delimiter=',', fmt='%s')\"\"\"\n"
   ]
  },
  {
   "cell_type": "code",
   "execution_count": 4,
   "metadata": {},
   "outputs": [
    {
     "name": "stdout",
     "output_type": "stream",
     "text": [
      "2022-04-26 08:00:40.317662\n",
      "1298\n"
     ]
    },
    {
     "ename": "KeyboardInterrupt",
     "evalue": "",
     "output_type": "error",
     "traceback": [
      "\u001b[1;31m---------------------------------------------------------------------------\u001b[0m",
      "\u001b[1;31mKeyboardInterrupt\u001b[0m                         Traceback (most recent call last)",
      "\u001b[1;32mc:\\Users\\fabio\\OneDrive\\Documents\\Studies\\Social_Research\\Statistical-Learning_Exercise-1_Trust-within-the-EU\\Stat_Learn_Practical_Activities_1.ipynb Cell 4'\u001b[0m in \u001b[0;36m<cell line: 60>\u001b[1;34m()\u001b[0m\n\u001b[0;32m     <a href='vscode-notebook-cell:/c%3A/Users/fabio/OneDrive/Documents/Studies/Social_Research/Statistical-Learning_Exercise-1_Trust-within-the-EU/Stat_Learn_Practical_Activities_1.ipynb#ch0000003?line=57'>58</a>\u001b[0m \u001b[39mprint\u001b[39m(datetime\u001b[39m.\u001b[39mdatetime\u001b[39m.\u001b[39mnow())\n\u001b[0;32m     <a href='vscode-notebook-cell:/c%3A/Users/fabio/OneDrive/Documents/Studies/Social_Research/Statistical-Learning_Exercise-1_Trust-within-the-EU/Stat_Learn_Practical_Activities_1.ipynb#ch0000003?line=58'>59</a>\u001b[0m \u001b[39m#return_stats_on_group(df, [\"qa1a_2\"], {\"isocntry\":\"LT\"})\u001b[39;00m\n\u001b[1;32m---> <a href='vscode-notebook-cell:/c%3A/Users/fabio/OneDrive/Documents/Studies/Social_Research/Statistical-Learning_Exercise-1_Trust-within-the-EU/Stat_Learn_Practical_Activities_1.ipynb#ch0000003?line=59'>60</a>\u001b[0m df_results \u001b[39m=\u001b[39m run_study(unit_group_request_list, unit_group_column, unit_group_name, data_request_list)\n\u001b[0;32m     <a href='vscode-notebook-cell:/c%3A/Users/fabio/OneDrive/Documents/Studies/Social_Research/Statistical-Learning_Exercise-1_Trust-within-the-EU/Stat_Learn_Practical_Activities_1.ipynb#ch0000003?line=60'>61</a>\u001b[0m \u001b[39mprint\u001b[39m(df_results)\n\u001b[0;32m     <a href='vscode-notebook-cell:/c%3A/Users/fabio/OneDrive/Documents/Studies/Social_Research/Statistical-Learning_Exercise-1_Trust-within-the-EU/Stat_Learn_Practical_Activities_1.ipynb#ch0000003?line=61'>62</a>\u001b[0m \u001b[39mprint\u001b[39m(datetime\u001b[39m.\u001b[39mdatetime\u001b[39m.\u001b[39mnow())\n",
      "\u001b[1;32mc:\\Users\\fabio\\OneDrive\\Documents\\Studies\\Social_Research\\Statistical-Learning_Exercise-1_Trust-within-the-EU\\Stat_Learn_Practical_Activities_1.ipynb Cell 4'\u001b[0m in \u001b[0;36mrun_study\u001b[1;34m(unit_group_request_list, unit_group_column, unit_group_name, data_request_list)\u001b[0m\n\u001b[0;32m     <a href='vscode-notebook-cell:/c%3A/Users/fabio/OneDrive/Documents/Studies/Social_Research/Statistical-Learning_Exercise-1_Trust-within-the-EU/Stat_Learn_Practical_Activities_1.ipynb#ch0000003?line=33'>34</a>\u001b[0m \u001b[39mfor\u001b[39;00m data_request \u001b[39min\u001b[39;00m data_request_list:\n\u001b[0;32m     <a href='vscode-notebook-cell:/c%3A/Users/fabio/OneDrive/Documents/Studies/Social_Research/Statistical-Learning_Exercise-1_Trust-within-the-EU/Stat_Learn_Practical_Activities_1.ipynb#ch0000003?line=34'>35</a>\u001b[0m     remap_dict \u001b[39m=\u001b[39m data_request[\u001b[39m\"\u001b[39m\u001b[39mremap_dict\u001b[39m\u001b[39m\"\u001b[39m]\n\u001b[1;32m---> <a href='vscode-notebook-cell:/c%3A/Users/fabio/OneDrive/Documents/Studies/Social_Research/Statistical-Learning_Exercise-1_Trust-within-the-EU/Stat_Learn_Practical_Activities_1.ipynb#ch0000003?line=35'>36</a>\u001b[0m     output_mean, output_std \u001b[39m=\u001b[39m return_stats_on_group(df, data_request[\u001b[39m'\u001b[39;49m\u001b[39mdata_group\u001b[39;49m\u001b[39m'\u001b[39;49m], unit_request_2, remap_dict)\n\u001b[0;32m     <a href='vscode-notebook-cell:/c%3A/Users/fabio/OneDrive/Documents/Studies/Social_Research/Statistical-Learning_Exercise-1_Trust-within-the-EU/Stat_Learn_Practical_Activities_1.ipynb#ch0000003?line=37'>38</a>\u001b[0m     \u001b[39m#enter data to series - FG_note: this likely still clunkly, I'm not sure why I'm using all these dictionaries\u001b[39;00m\n\u001b[0;32m     <a href='vscode-notebook-cell:/c%3A/Users/fabio/OneDrive/Documents/Studies/Social_Research/Statistical-Learning_Exercise-1_Trust-within-the-EU/Stat_Learn_Practical_Activities_1.ipynb#ch0000003?line=38'>39</a>\u001b[0m     result_dict \u001b[39m=\u001b[39m {(data_request[\u001b[39m\"\u001b[39m\u001b[39mdata_group_name\u001b[39m\u001b[39m\"\u001b[39m], \u001b[39m\"\u001b[39m\u001b[39mmean\u001b[39m\u001b[39m\"\u001b[39m): output_mean, (data_request[\u001b[39m\"\u001b[39m\u001b[39mdata_group_name\u001b[39m\u001b[39m\"\u001b[39m], \u001b[39m\"\u001b[39m\u001b[39mstd\u001b[39m\u001b[39m\"\u001b[39m): output_std}\n",
      "\u001b[1;32mc:\\Users\\fabio\\OneDrive\\Documents\\Studies\\Social_Research\\Statistical-Learning_Exercise-1_Trust-within-the-EU\\Stat_Learn_Practical_Activities_1.ipynb Cell 4'\u001b[0m in \u001b[0;36mreturn_stats_on_group\u001b[1;34m(df, column_names, conditions, remap_dict)\u001b[0m\n\u001b[0;32m     <a href='vscode-notebook-cell:/c%3A/Users/fabio/OneDrive/Documents/Studies/Social_Research/Statistical-Learning_Exercise-1_Trust-within-the-EU/Stat_Learn_Practical_Activities_1.ipynb#ch0000003?line=15'>16</a>\u001b[0m             \u001b[39mprint\u001b[39m(\u001b[39mstr\u001b[39m(FG_counter) \u001b[39m+\u001b[39m \u001b[39m\"\u001b[39m\u001b[39m/\u001b[39m\u001b[39m\"\u001b[39m \u001b[39m+\u001b[39m  \u001b[39mstr\u001b[39m(total_iterations_qty))\n\u001b[0;32m     <a href='vscode-notebook-cell:/c%3A/Users/fabio/OneDrive/Documents/Studies/Social_Research/Statistical-Learning_Exercise-1_Trust-within-the-EU/Stat_Learn_Practical_Activities_1.ipynb#ch0000003?line=16'>17</a>\u001b[0m             \u001b[39mprint\u001b[39m(datetime\u001b[39m.\u001b[39mdatetime\u001b[39m.\u001b[39mnow())\n\u001b[1;32m---> <a href='vscode-notebook-cell:/c%3A/Users/fabio/OneDrive/Documents/Studies/Social_Research/Statistical-Learning_Exercise-1_Trust-within-the-EU/Stat_Learn_Practical_Activities_1.ipynb#ch0000003?line=17'>18</a>\u001b[0m         df_remapped[i] \u001b[39m=\u001b[39m remap_dict[df_remapped[i]]\n\u001b[0;32m     <a href='vscode-notebook-cell:/c%3A/Users/fabio/OneDrive/Documents/Studies/Social_Research/Statistical-Learning_Exercise-1_Trust-within-the-EU/Stat_Learn_Practical_Activities_1.ipynb#ch0000003?line=19'>20</a>\u001b[0m collected_means  \u001b[39m=\u001b[39m np\u001b[39m.\u001b[39mappend(collected_means, df_remapped\u001b[39m.\u001b[39mmean())\n\u001b[0;32m     <a href='vscode-notebook-cell:/c%3A/Users/fabio/OneDrive/Documents/Studies/Social_Research/Statistical-Learning_Exercise-1_Trust-within-the-EU/Stat_Learn_Practical_Activities_1.ipynb#ch0000003?line=20'>21</a>\u001b[0m collected_values \u001b[39m=\u001b[39m np\u001b[39m.\u001b[39mappend(collected_values, df_remapped\u001b[39m.\u001b[39mvalues\u001b[39m.\u001b[39mtolist())\n",
      "File \u001b[1;32m~\\AppData\\Local\\Programs\\Python\\Python310\\lib\\site-packages\\pandas\\core\\series.py:1143\u001b[0m, in \u001b[0;36mSeries.__setitem__\u001b[1;34m(self, key, value)\u001b[0m\n\u001b[0;32m   <a href='file:///c%3A/Users/fabio/AppData/Local/Programs/Python/Python310/lib/site-packages/pandas/core/series.py?line=1139'>1140</a>\u001b[0m         \u001b[39mself\u001b[39m\u001b[39m.\u001b[39m_set_with(key, value)\n\u001b[0;32m   <a href='file:///c%3A/Users/fabio/AppData/Local/Programs/Python/Python310/lib/site-packages/pandas/core/series.py?line=1141'>1142</a>\u001b[0m \u001b[39mif\u001b[39;00m cacher_needs_updating:\n\u001b[1;32m-> <a href='file:///c%3A/Users/fabio/AppData/Local/Programs/Python/Python310/lib/site-packages/pandas/core/series.py?line=1142'>1143</a>\u001b[0m     \u001b[39mself\u001b[39;49m\u001b[39m.\u001b[39;49m_maybe_update_cacher()\n",
      "File \u001b[1;32m~\\AppData\\Local\\Programs\\Python\\Python310\\lib\\site-packages\\pandas\\core\\series.py:1285\u001b[0m, in \u001b[0;36mSeries._maybe_update_cacher\u001b[1;34m(self, clear, verify_is_copy, inplace)\u001b[0m\n\u001b[0;32m   <a href='file:///c%3A/Users/fabio/AppData/Local/Programs/Python/Python310/lib/site-packages/pandas/core/series.py?line=1279'>1280</a>\u001b[0m     \u001b[39melse\u001b[39;00m:\n\u001b[0;32m   <a href='file:///c%3A/Users/fabio/AppData/Local/Programs/Python/Python310/lib/site-packages/pandas/core/series.py?line=1280'>1281</a>\u001b[0m         \u001b[39m# GH#33675 we have swapped in a new array, so parent\u001b[39;00m\n\u001b[0;32m   <a href='file:///c%3A/Users/fabio/AppData/Local/Programs/Python/Python310/lib/site-packages/pandas/core/series.py?line=1281'>1282</a>\u001b[0m         \u001b[39m#  reference to self is now invalid\u001b[39;00m\n\u001b[0;32m   <a href='file:///c%3A/Users/fabio/AppData/Local/Programs/Python/Python310/lib/site-packages/pandas/core/series.py?line=1282'>1283</a>\u001b[0m         ref\u001b[39m.\u001b[39m_item_cache\u001b[39m.\u001b[39mpop(cacher[\u001b[39m0\u001b[39m], \u001b[39mNone\u001b[39;00m)\n\u001b[1;32m-> <a href='file:///c%3A/Users/fabio/AppData/Local/Programs/Python/Python310/lib/site-packages/pandas/core/series.py?line=1284'>1285</a>\u001b[0m \u001b[39msuper\u001b[39;49m()\u001b[39m.\u001b[39;49m_maybe_update_cacher(\n\u001b[0;32m   <a href='file:///c%3A/Users/fabio/AppData/Local/Programs/Python/Python310/lib/site-packages/pandas/core/series.py?line=1285'>1286</a>\u001b[0m     clear\u001b[39m=\u001b[39;49mclear, verify_is_copy\u001b[39m=\u001b[39;49mverify_is_copy, inplace\u001b[39m=\u001b[39;49minplace\n\u001b[0;32m   <a href='file:///c%3A/Users/fabio/AppData/Local/Programs/Python/Python310/lib/site-packages/pandas/core/series.py?line=1286'>1287</a>\u001b[0m )\n",
      "File \u001b[1;32m~\\AppData\\Local\\Programs\\Python\\Python310\\lib\\site-packages\\pandas\\core\\generic.py:3610\u001b[0m, in \u001b[0;36mNDFrame._maybe_update_cacher\u001b[1;34m(self, clear, verify_is_copy, inplace)\u001b[0m\n\u001b[0;32m   <a href='file:///c%3A/Users/fabio/AppData/Local/Programs/Python/Python310/lib/site-packages/pandas/core/generic.py?line=3596'>3597</a>\u001b[0m \u001b[39m\"\"\"\u001b[39;00m\n\u001b[0;32m   <a href='file:///c%3A/Users/fabio/AppData/Local/Programs/Python/Python310/lib/site-packages/pandas/core/generic.py?line=3597'>3598</a>\u001b[0m \u001b[39mSee if we need to update our parent cacher if clear, then clear our\u001b[39;00m\n\u001b[0;32m   <a href='file:///c%3A/Users/fabio/AppData/Local/Programs/Python/Python310/lib/site-packages/pandas/core/generic.py?line=3598'>3599</a>\u001b[0m \u001b[39mcache.\u001b[39;00m\n\u001b[1;32m   (...)\u001b[0m\n\u001b[0;32m   <a href='file:///c%3A/Users/fabio/AppData/Local/Programs/Python/Python310/lib/site-packages/pandas/core/generic.py?line=3605'>3606</a>\u001b[0m \u001b[39m    Provide is_copy checks.\u001b[39;00m\n\u001b[0;32m   <a href='file:///c%3A/Users/fabio/AppData/Local/Programs/Python/Python310/lib/site-packages/pandas/core/generic.py?line=3606'>3607</a>\u001b[0m \u001b[39m\"\"\"\u001b[39;00m\n\u001b[0;32m   <a href='file:///c%3A/Users/fabio/AppData/Local/Programs/Python/Python310/lib/site-packages/pandas/core/generic.py?line=3608'>3609</a>\u001b[0m \u001b[39mif\u001b[39;00m verify_is_copy:\n\u001b[1;32m-> <a href='file:///c%3A/Users/fabio/AppData/Local/Programs/Python/Python310/lib/site-packages/pandas/core/generic.py?line=3609'>3610</a>\u001b[0m     \u001b[39mself\u001b[39;49m\u001b[39m.\u001b[39;49m_check_setitem_copy(t\u001b[39m=\u001b[39;49m\u001b[39m\"\u001b[39;49m\u001b[39mreferent\u001b[39;49m\u001b[39m\"\u001b[39;49m)\n\u001b[0;32m   <a href='file:///c%3A/Users/fabio/AppData/Local/Programs/Python/Python310/lib/site-packages/pandas/core/generic.py?line=3611'>3612</a>\u001b[0m \u001b[39mif\u001b[39;00m clear:\n\u001b[0;32m   <a href='file:///c%3A/Users/fabio/AppData/Local/Programs/Python/Python310/lib/site-packages/pandas/core/generic.py?line=3612'>3613</a>\u001b[0m     \u001b[39mself\u001b[39m\u001b[39m.\u001b[39m_clear_item_cache()\n",
      "File \u001b[1;32m~\\AppData\\Local\\Programs\\Python\\Python310\\lib\\site-packages\\pandas\\core\\generic.py:4030\u001b[0m, in \u001b[0;36mNDFrame._check_setitem_copy\u001b[1;34m(self, t, force)\u001b[0m\n\u001b[0;32m   <a href='file:///c%3A/Users/fabio/AppData/Local/Programs/Python/Python310/lib/site-packages/pandas/core/generic.py?line=4027'>4028</a>\u001b[0m     \u001b[39mraise\u001b[39;00m com\u001b[39m.\u001b[39mSettingWithCopyError(t)\n\u001b[0;32m   <a href='file:///c%3A/Users/fabio/AppData/Local/Programs/Python/Python310/lib/site-packages/pandas/core/generic.py?line=4028'>4029</a>\u001b[0m \u001b[39melif\u001b[39;00m value \u001b[39m==\u001b[39m \u001b[39m\"\u001b[39m\u001b[39mwarn\u001b[39m\u001b[39m\"\u001b[39m:\n\u001b[1;32m-> <a href='file:///c%3A/Users/fabio/AppData/Local/Programs/Python/Python310/lib/site-packages/pandas/core/generic.py?line=4029'>4030</a>\u001b[0m     warnings\u001b[39m.\u001b[39mwarn(t, com\u001b[39m.\u001b[39mSettingWithCopyWarning, stacklevel\u001b[39m=\u001b[39mfind_stack_level())\n",
      "File \u001b[1;32m~\\AppData\\Local\\Programs\\Python\\Python310\\lib\\site-packages\\pandas\\util\\_exceptions.py:32\u001b[0m, in \u001b[0;36mfind_stack_level\u001b[1;34m()\u001b[0m\n\u001b[0;32m     <a href='file:///c%3A/Users/fabio/AppData/Local/Programs/Python/Python310/lib/site-packages/pandas/util/_exceptions.py?line=26'>27</a>\u001b[0m \u001b[39mdef\u001b[39;00m \u001b[39mfind_stack_level\u001b[39m() \u001b[39m-\u001b[39m\u001b[39m>\u001b[39m \u001b[39mint\u001b[39m:\n\u001b[0;32m     <a href='file:///c%3A/Users/fabio/AppData/Local/Programs/Python/Python310/lib/site-packages/pandas/util/_exceptions.py?line=27'>28</a>\u001b[0m     \u001b[39m\"\"\"\u001b[39;00m\n\u001b[0;32m     <a href='file:///c%3A/Users/fabio/AppData/Local/Programs/Python/Python310/lib/site-packages/pandas/util/_exceptions.py?line=28'>29</a>\u001b[0m \u001b[39m    Find the first place in the stack that is not inside pandas\u001b[39;00m\n\u001b[0;32m     <a href='file:///c%3A/Users/fabio/AppData/Local/Programs/Python/Python310/lib/site-packages/pandas/util/_exceptions.py?line=29'>30</a>\u001b[0m \u001b[39m    (tests notwithstanding).\u001b[39;00m\n\u001b[0;32m     <a href='file:///c%3A/Users/fabio/AppData/Local/Programs/Python/Python310/lib/site-packages/pandas/util/_exceptions.py?line=30'>31</a>\u001b[0m \u001b[39m    \"\"\"\u001b[39;00m\n\u001b[1;32m---> <a href='file:///c%3A/Users/fabio/AppData/Local/Programs/Python/Python310/lib/site-packages/pandas/util/_exceptions.py?line=31'>32</a>\u001b[0m     stack \u001b[39m=\u001b[39m inspect\u001b[39m.\u001b[39;49mstack()\n\u001b[0;32m     <a href='file:///c%3A/Users/fabio/AppData/Local/Programs/Python/Python310/lib/site-packages/pandas/util/_exceptions.py?line=33'>34</a>\u001b[0m     \u001b[39mimport\u001b[39;00m \u001b[39mpandas\u001b[39;00m \u001b[39mas\u001b[39;00m \u001b[39mpd\u001b[39;00m\n\u001b[0;32m     <a href='file:///c%3A/Users/fabio/AppData/Local/Programs/Python/Python310/lib/site-packages/pandas/util/_exceptions.py?line=35'>36</a>\u001b[0m     pkg_dir \u001b[39m=\u001b[39m os\u001b[39m.\u001b[39mpath\u001b[39m.\u001b[39mdirname(pd\u001b[39m.\u001b[39m\u001b[39m__file__\u001b[39m)\n",
      "File \u001b[1;32m~\\AppData\\Local\\Programs\\Python\\Python310\\lib\\inspect.py:1678\u001b[0m, in \u001b[0;36mstack\u001b[1;34m(context)\u001b[0m\n\u001b[0;32m   <a href='file:///c%3A/Users/fabio/AppData/Local/Programs/Python/Python310/lib/inspect.py?line=1675'>1676</a>\u001b[0m \u001b[39mdef\u001b[39;00m \u001b[39mstack\u001b[39m(context\u001b[39m=\u001b[39m\u001b[39m1\u001b[39m):\n\u001b[0;32m   <a href='file:///c%3A/Users/fabio/AppData/Local/Programs/Python/Python310/lib/inspect.py?line=1676'>1677</a>\u001b[0m     \u001b[39m\"\"\"Return a list of records for the stack above the caller's frame.\"\"\"\u001b[39;00m\n\u001b[1;32m-> <a href='file:///c%3A/Users/fabio/AppData/Local/Programs/Python/Python310/lib/inspect.py?line=1677'>1678</a>\u001b[0m     \u001b[39mreturn\u001b[39;00m getouterframes(sys\u001b[39m.\u001b[39;49m_getframe(\u001b[39m1\u001b[39;49m), context)\n",
      "File \u001b[1;32m~\\AppData\\Local\\Programs\\Python\\Python310\\lib\\inspect.py:1655\u001b[0m, in \u001b[0;36mgetouterframes\u001b[1;34m(frame, context)\u001b[0m\n\u001b[0;32m   <a href='file:///c%3A/Users/fabio/AppData/Local/Programs/Python/Python310/lib/inspect.py?line=1652'>1653</a>\u001b[0m framelist \u001b[39m=\u001b[39m []\n\u001b[0;32m   <a href='file:///c%3A/Users/fabio/AppData/Local/Programs/Python/Python310/lib/inspect.py?line=1653'>1654</a>\u001b[0m \u001b[39mwhile\u001b[39;00m frame:\n\u001b[1;32m-> <a href='file:///c%3A/Users/fabio/AppData/Local/Programs/Python/Python310/lib/inspect.py?line=1654'>1655</a>\u001b[0m     frameinfo \u001b[39m=\u001b[39m (frame,) \u001b[39m+\u001b[39m getframeinfo(frame, context)\n\u001b[0;32m   <a href='file:///c%3A/Users/fabio/AppData/Local/Programs/Python/Python310/lib/inspect.py?line=1655'>1656</a>\u001b[0m     framelist\u001b[39m.\u001b[39mappend(FrameInfo(\u001b[39m*\u001b[39mframeinfo))\n\u001b[0;32m   <a href='file:///c%3A/Users/fabio/AppData/Local/Programs/Python/Python310/lib/inspect.py?line=1656'>1657</a>\u001b[0m     frame \u001b[39m=\u001b[39m frame\u001b[39m.\u001b[39mf_back\n",
      "File \u001b[1;32m~\\AppData\\Local\\Programs\\Python\\Python310\\lib\\inspect.py:1629\u001b[0m, in \u001b[0;36mgetframeinfo\u001b[1;34m(frame, context)\u001b[0m\n\u001b[0;32m   <a href='file:///c%3A/Users/fabio/AppData/Local/Programs/Python/Python310/lib/inspect.py?line=1626'>1627</a>\u001b[0m start \u001b[39m=\u001b[39m lineno \u001b[39m-\u001b[39m \u001b[39m1\u001b[39m \u001b[39m-\u001b[39m context\u001b[39m/\u001b[39m\u001b[39m/\u001b[39m\u001b[39m2\u001b[39m\n\u001b[0;32m   <a href='file:///c%3A/Users/fabio/AppData/Local/Programs/Python/Python310/lib/inspect.py?line=1627'>1628</a>\u001b[0m \u001b[39mtry\u001b[39;00m:\n\u001b[1;32m-> <a href='file:///c%3A/Users/fabio/AppData/Local/Programs/Python/Python310/lib/inspect.py?line=1628'>1629</a>\u001b[0m     lines, lnum \u001b[39m=\u001b[39m findsource(frame)\n\u001b[0;32m   <a href='file:///c%3A/Users/fabio/AppData/Local/Programs/Python/Python310/lib/inspect.py?line=1629'>1630</a>\u001b[0m \u001b[39mexcept\u001b[39;00m \u001b[39mOSError\u001b[39;00m:\n\u001b[0;32m   <a href='file:///c%3A/Users/fabio/AppData/Local/Programs/Python/Python310/lib/inspect.py?line=1630'>1631</a>\u001b[0m     lines \u001b[39m=\u001b[39m index \u001b[39m=\u001b[39m \u001b[39mNone\u001b[39;00m\n",
      "File \u001b[1;32m~\\AppData\\Local\\Programs\\Python\\Python310\\lib\\inspect.py:943\u001b[0m, in \u001b[0;36mfindsource\u001b[1;34m(object)\u001b[0m\n\u001b[0;32m    <a href='file:///c%3A/Users/fabio/AppData/Local/Programs/Python/Python310/lib/inspect.py?line=939'>940</a>\u001b[0m file \u001b[39m=\u001b[39m getsourcefile(\u001b[39mobject\u001b[39m)\n\u001b[0;32m    <a href='file:///c%3A/Users/fabio/AppData/Local/Programs/Python/Python310/lib/inspect.py?line=940'>941</a>\u001b[0m \u001b[39mif\u001b[39;00m file:\n\u001b[0;32m    <a href='file:///c%3A/Users/fabio/AppData/Local/Programs/Python/Python310/lib/inspect.py?line=941'>942</a>\u001b[0m     \u001b[39m# Invalidate cache if needed.\u001b[39;00m\n\u001b[1;32m--> <a href='file:///c%3A/Users/fabio/AppData/Local/Programs/Python/Python310/lib/inspect.py?line=942'>943</a>\u001b[0m     linecache\u001b[39m.\u001b[39;49mcheckcache(file)\n\u001b[0;32m    <a href='file:///c%3A/Users/fabio/AppData/Local/Programs/Python/Python310/lib/inspect.py?line=943'>944</a>\u001b[0m \u001b[39melse\u001b[39;00m:\n\u001b[0;32m    <a href='file:///c%3A/Users/fabio/AppData/Local/Programs/Python/Python310/lib/inspect.py?line=944'>945</a>\u001b[0m     file \u001b[39m=\u001b[39m getfile(\u001b[39mobject\u001b[39m)\n",
      "File \u001b[1;32m~\\AppData\\Roaming\\Python\\Python310\\site-packages\\IPython\\core\\compilerop.py:193\u001b[0m, in \u001b[0;36mcheck_linecache_ipython\u001b[1;34m(*args)\u001b[0m\n\u001b[0;32m    <a href='file:///c%3A/Users/fabio/AppData/Roaming/Python/Python310/site-packages/IPython/core/compilerop.py?line=189'>190</a>\u001b[0m \u001b[39m\"\"\"Call linecache.checkcache() safely protecting our cached values.\u001b[39;00m\n\u001b[0;32m    <a href='file:///c%3A/Users/fabio/AppData/Roaming/Python/Python310/site-packages/IPython/core/compilerop.py?line=190'>191</a>\u001b[0m \u001b[39m\"\"\"\u001b[39;00m\n\u001b[0;32m    <a href='file:///c%3A/Users/fabio/AppData/Roaming/Python/Python310/site-packages/IPython/core/compilerop.py?line=191'>192</a>\u001b[0m \u001b[39m# First call the original checkcache as intended\u001b[39;00m\n\u001b[1;32m--> <a href='file:///c%3A/Users/fabio/AppData/Roaming/Python/Python310/site-packages/IPython/core/compilerop.py?line=192'>193</a>\u001b[0m linecache\u001b[39m.\u001b[39;49m_checkcache_ori(\u001b[39m*\u001b[39;49margs)\n\u001b[0;32m    <a href='file:///c%3A/Users/fabio/AppData/Roaming/Python/Python310/site-packages/IPython/core/compilerop.py?line=193'>194</a>\u001b[0m \u001b[39m# Then, update back the cache with our data, so that tracebacks related\u001b[39;00m\n\u001b[0;32m    <a href='file:///c%3A/Users/fabio/AppData/Roaming/Python/Python310/site-packages/IPython/core/compilerop.py?line=194'>195</a>\u001b[0m \u001b[39m# to our compiled codes can be produced.\u001b[39;00m\n\u001b[0;32m    <a href='file:///c%3A/Users/fabio/AppData/Roaming/Python/Python310/site-packages/IPython/core/compilerop.py?line=195'>196</a>\u001b[0m linecache\u001b[39m.\u001b[39mcache\u001b[39m.\u001b[39mupdate(linecache\u001b[39m.\u001b[39m_ipython_cache)\n",
      "File \u001b[1;32m~\\AppData\\Local\\Programs\\Python\\Python310\\lib\\linecache.py:72\u001b[0m, in \u001b[0;36mcheckcache\u001b[1;34m(filename)\u001b[0m\n\u001b[0;32m     <a href='file:///c%3A/Users/fabio/AppData/Local/Programs/Python/Python310/lib/linecache.py?line=69'>70</a>\u001b[0m     \u001b[39mcontinue\u001b[39;00m   \u001b[39m# no-op for files loaded via a __loader__\u001b[39;00m\n\u001b[0;32m     <a href='file:///c%3A/Users/fabio/AppData/Local/Programs/Python/Python310/lib/linecache.py?line=70'>71</a>\u001b[0m \u001b[39mtry\u001b[39;00m:\n\u001b[1;32m---> <a href='file:///c%3A/Users/fabio/AppData/Local/Programs/Python/Python310/lib/linecache.py?line=71'>72</a>\u001b[0m     stat \u001b[39m=\u001b[39m os\u001b[39m.\u001b[39;49mstat(fullname)\n\u001b[0;32m     <a href='file:///c%3A/Users/fabio/AppData/Local/Programs/Python/Python310/lib/linecache.py?line=72'>73</a>\u001b[0m \u001b[39mexcept\u001b[39;00m \u001b[39mOSError\u001b[39;00m:\n\u001b[0;32m     <a href='file:///c%3A/Users/fabio/AppData/Local/Programs/Python/Python310/lib/linecache.py?line=73'>74</a>\u001b[0m     cache\u001b[39m.\u001b[39mpop(filename, \u001b[39mNone\u001b[39;00m)\n",
      "\u001b[1;31mKeyboardInterrupt\u001b[0m: "
     ]
    }
   ],
   "source": [
    "def return_stats_on_group(df, column_names, conditions, remap_dict):\n",
    "    df_filtered = df\n",
    "    collected_values, collected_means = [], []\n",
    "    \n",
    "    for col, condition in conditions.items():\n",
    "        df_filtered = df_filtered[df_filtered[col]==condition]\n",
    "    for target_value in column_names:\n",
    "        df_remapped = df_filtered[target_value]\n",
    "        if not remap_dict == None:\n",
    "            FG_counter = 0\n",
    "            total_iterations_qty = len(df_remapped.index)\n",
    "            print(total_iterations_qty)\n",
    "            for i in df_remapped.index[0:100]:\n",
    "                FG_counter += 1\n",
    "                if float(FG_counter) % int(total_iterations_qty / 10) == 0:\n",
    "                    print(str(FG_counter) + \"/\" +  str(total_iterations_qty))\n",
    "                    print(datetime.datetime.now())\n",
    "                df_remapped[i] = remap_dict[df_remapped[i]]\n",
    "            \n",
    "        collected_means  = np.append(collected_means, df_remapped.mean())\n",
    "        collected_values = np.append(collected_values, df_remapped.values.tolist())\n",
    "    \n",
    "    output_mean, output_std = collected_means.mean(), np.array(collected_values).std()\n",
    "    output_mean, output_std = float(\"{:.2f}\".format(output_mean)), float(\"{:.2f}\".format(output_std))\n",
    "    \n",
    "    return output_mean, output_std\n",
    "\n",
    "def run_study(unit_group_request_list, unit_group_column, unit_group_name, data_request_list):\n",
    "    df_results = pd.DataFrame()\n",
    "    \n",
    "    for unit_request in unit_group_request_list:\n",
    "        unit_request_2 = {unit_group_column: v for v in unit_request[\"unit_group\"]}\n",
    "        \n",
    "        for data_request in data_request_list:\n",
    "            remap_dict = data_request[\"remap_dict\"]\n",
    "            output_mean, output_std = return_stats_on_group(df, data_request['data_group'], unit_request_2, remap_dict)\n",
    "            \n",
    "            #enter data to series - FG_note: this likely still clunkly, I'm not sure why I'm using all these dictionaries\n",
    "            result_dict = {(data_request[\"data_group_name\"], \"mean\"): output_mean, (data_request[\"data_group_name\"], \"std\"): output_std}\n",
    "            result_series = pd.Series(result_dict, name=unit_request[\"unit_name\"])\n",
    "            df_results = df_results.append(result_series)\n",
    "    \n",
    "    df_results[unit_group_name] = df_results.index\n",
    "    df_results = df_results.groupby(unit_type).mean()\n",
    "    return df_results\n",
    "\n",
    "remap_1 = {1:2, 2:3, 3:4, 4:5, 5:6}\n",
    "unit_group_request_list = [{\"unit_group\" : [\"GB\"], \"unit_name\": \"GB\"}, \n",
    "                           {\"unit_group\" : [\"IT\"], \"unit_name\": \"Italy\"}]\n",
    "unit_group_column = \"isocntry\"\n",
    "unit_group_name = \"country\"\n",
    "data_request_list = [{\"data_group\": [\"qa1a_1\", \"qa1a_2\", \"qa1a_3\", \"qa1a_4\", \"qa1a_5\", \"qa1a_6\", \"qa1a_7\"], \"data_group_name\": \"qa1a\", \"remap_dict\": None},\n",
    "                     {\"data_group\": [\"qa2a_1\", \"qa2a_2\", \"qa2a_3\", \"qa2a_4\", \"qa2a_5\", \"qa2a_6\", \"qa2a_7\"], \"data_group_name\": \"qa2a\", \"remap_dict\": None}]\n",
    "\n",
    "test_list = [\"a\",\"b\"]\n",
    "test_dict = {\"a\":1, \"b\":2}\n",
    "\n",
    "print(datetime.datetime.now())\n",
    "#return_stats_on_group(df, [\"qa1a_2\"], {\"isocntry\":\"LT\"})\n",
    "df_results = run_study(unit_group_request_list, unit_group_column, unit_group_name, data_request_list)\n",
    "print(df_results)\n",
    "print(datetime.datetime.now())"
   ]
  },
  {
   "cell_type": "code",
   "execution_count": null,
   "metadata": {},
   "outputs": [],
   "source": [
    "df_1 = df[[\"isocntry\",\"qa1a_2\",\"d8\"]]\n",
    "df_2 = df_1[df_1['isocntry']==\"LT\"]\n",
    "corr_education_econ = df_2[\"qa1a_2\"].corr(df_2[\"d8\"])\n",
    "print(corr_education_econ)\n",
    "\n",
    "\n",
    "plt.scatter(df_2[\"d8\"], df_2[\"qa1a_2\"])\n",
    "df_2.hist(\"qa1a_2\")\n",
    "sns.pairplot(df_2[['qa1a_2', \"d8\"]], palette=\"vlag\")\n"
   ]
  }
 ],
 "metadata": {
  "interpreter": {
   "hash": "d686fb4bba1cd81d322bac49812b464465e293b78591a47e52bedfb124e592be"
  },
  "kernelspec": {
   "display_name": "Python 3.10.2 64-bit",
   "language": "python",
   "name": "python3"
  },
  "language_info": {
   "codemirror_mode": {
    "name": "ipython",
    "version": 3
   },
   "file_extension": ".py",
   "mimetype": "text/x-python",
   "name": "python",
   "nbconvert_exporter": "python",
   "pygments_lexer": "ipython3",
   "version": "3.10.2"
  },
  "orig_nbformat": 4
 },
 "nbformat": 4,
 "nbformat_minor": 2
}
