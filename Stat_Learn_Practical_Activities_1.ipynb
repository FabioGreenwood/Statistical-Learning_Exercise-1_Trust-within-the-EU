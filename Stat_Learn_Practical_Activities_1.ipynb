{
 "cells": [
  {
   "cell_type": "code",
   "execution_count": 3,
   "metadata": {},
   "outputs": [],
   "source": [
    "import numpy as np\n",
    "import pandas as pd\n",
    "import os\n",
    "import seaborn as sns\n",
    "import matplotlib.pyplot\n",
    "import sklearn.linear_model\n",
    "import matplotlib.pyplot as plt\n",
    "import pyreadstat\n",
    "import datetime\n",
    "import FG_Methods_1\n",
    "import tabulate\n",
    "import seaborn as sns\n",
    "\n",
    "import warnings\n",
    "\n",
    "warnings.filterwarnings(\"ignore\")\n",
    "\n",
    "qa2a_labels = [\"Crime\", \"Economic situation\", \"Rising prices/ inflation/ cost of living\", \"Taxation\", \"Unemployment\", \"Terrorism\", \"NULL\", \"Housing\", \"Government debt\", \"Immigration\", \"Health\", \"The education system\", \"Pensions\", \"The environment and climate change\", \"Energy supply\", ]\n"
   ]
  },
  {
   "cell_type": "code",
   "execution_count": 4,
   "metadata": {},
   "outputs": [
    {
     "name": "stdout",
     "output_type": "stream",
     "text": [
      "2\n"
     ]
    }
   ],
   "source": [
    "print(1+1)"
   ]
  },
  {
   "cell_type": "code",
   "execution_count": 5,
   "metadata": {},
   "outputs": [
    {
     "name": "stdout",
     "output_type": "stream",
     "text": [
      "<class 'pandas.core.frame.DataFrame'>\n",
      "Int64Index: 38718 entries, 0 to 38717\n",
      "Columns: 479 entries, studyno1 to w87\n",
      "dtypes: float64(284), int16(5), int32(3), int8(184), object(3)\n",
      "memory usage: 92.7+ MB\n",
      "['AL', 'AT', 'BA', 'BE', 'BG', 'CH', 'CY', 'CY-TCC', 'CZ', 'DE-E', 'DE-W', 'DK', 'EE', 'ES', 'FI', 'FR', 'GB', 'GR', 'HR', 'HU', 'IE', 'IS', 'IT', 'LT', 'LU', 'LV', 'ME', 'MK', 'MT', 'NL', 'NO', 'PL', 'PT', 'RO', 'RS', 'RS-KM', 'SE', 'SI', 'SK', 'TR']\n"
     ]
    }
   ],
   "source": [
    "# Initialise Values\n",
    "\n",
    "df_path = \"C:\\\\Users\\\\fabio\\\\OneDrive\\\\Documents\\\\Studies\\\\Social_Research\\\\data\\\\ZA7780_v1-0-0.dta\"\n",
    "df = pd.read_stata(df_path, convert_categoricals=False)\n",
    "df.info()\n",
    "\n",
    "unique_country_codes = set(df[\"isocntry\"].values)\n",
    "unique_country_codes = sorted(unique_country_codes)\n",
    "print(unique_country_codes)"
   ]
  },
  {
   "cell_type": "code",
   "execution_count": 6,
   "metadata": {},
   "outputs": [
    {
     "data": {
      "text/plain": [
       "'project_folder = \"C:\\\\Users\\\\fabio\\\\OneDrive\\\\Documents\\\\Studies\\\\Social_Research\\\\\"\\n\\ndf_column_headers = \"\"\\nfor i in df.columns:\\n    if i == df.columns[0]:\\n        df_column_headers = i\\n    else:\\n        df_column_headers = df_column_headers + \", \" + i\\n\\nnp.savetxt(project_folder + \\'social_research_dataframe.csv\\',  np.asarray(df), header=df_column_headers, delimiter=\\',\\', fmt=\\'%s\\')'"
      ]
     },
     "execution_count": 6,
     "metadata": {},
     "output_type": "execute_result"
    }
   ],
   "source": [
    "#Output Dataframe as csv\n",
    "\n",
    "\"\"\"project_folder = \"C:\\\\Users\\\\fabio\\\\OneDrive\\\\Documents\\\\Studies\\\\Social_Research\\\\\"\n",
    "\n",
    "df_column_headers = \"\"\n",
    "for i in df.columns:\n",
    "    if i == df.columns[0]:\n",
    "        df_column_headers = i\n",
    "    else:\n",
    "        df_column_headers = df_column_headers + \", \" + i\n",
    "\n",
    "np.savetxt(project_folder + 'social_research_dataframe.csv',  np.asarray(df), header=df_column_headers, delimiter=',', fmt='%s')\"\"\"\n"
   ]
  },
  {
   "cell_type": "code",
   "execution_count": 7,
   "metadata": {},
   "outputs": [],
   "source": [
    "def return_stats_on_group(df, column_names, conditions, remap_dict):\n",
    "    df_filtered = df\n",
    "    collected_values, collected_means = [], []\n",
    "    \n",
    "    for col, condition in conditions.items():\n",
    "        df_filtered = df_filtered[df_filtered[col]==condition]\n",
    "    for target_value in column_names:\n",
    "        \n",
    "        if not remap_dict == None:\n",
    "            df_remapped = remap_vector(df_filtered[target_value], remap_dict)\n",
    "        else:\n",
    "            df_remapped = df_filtered[target_value]\n",
    "            \n",
    "        collected_means  = np.append(collected_means, df_remapped.mean())\n",
    "        collected_values = np.append(collected_values, df_remapped)\n",
    "    \n",
    "    output_mean, output_std = collected_means.mean(), np.nanstd(np.array(collected_values).std())\n",
    "    output_mean, output_std = float(\"{:.2f}\".format(output_mean)), float(\"{:.2f}\".format(output_std))\n",
    "    \n",
    "    return output_mean, output_std\n",
    "\n",
    "def run_study(unit_group_request_list, unit_group_column, unit_group_name, data_request_list):\n",
    "    df_results = pd.DataFrame()\n",
    "    \n",
    "    for unit_request in unit_group_request_list:\n",
    "        unit_request_2 = {unit_group_column: v for v in unit_request[\"unit_group\"]}\n",
    "        \n",
    "        for data_request in data_request_list:\n",
    "            remap_dict = data_request[\"remap_dict\"]\n",
    "            output_mean, output_std = return_stats_on_group(df, data_request['data_group'], unit_request_2, remap_dict)\n",
    "            \n",
    "            #enter data to series - FG_note: this likely still clunkly, I'm not sure why I'm using all these dictionaries\n",
    "            result_dict = {(data_request[\"data_group_name\"], \"mean\"): output_mean, (data_request[\"data_group_name\"], \"std\"): output_std}\n",
    "            result_series = pd.Series(result_dict, name=unit_request[\"unit_name\"])\n",
    "            df_results = df_results.append(result_series)\n",
    "    \n",
    "    df_results[unit_group_name] = df_results.index\n",
    "    df_results = df_results.groupby(unit_group_name).mean()\n",
    "    return df_results\n",
    "\n",
    "\n",
    "def remap_vector(stats_vector, remap_dict):\n",
    "    unwrap = False\n",
    "    original_values = []\n",
    "    new_values = []\n",
    "    if not isinstance(stats_vector, list):\n",
    "        original_values = stats_vector.values.tolist()\n",
    "        unwrap = True\n",
    "    else:\n",
    "        original_values = stats_vector\n",
    "        \n",
    "    for i in original_values:\n",
    "        new_values = new_values + [remap_dict[original_values[i]]] \n",
    "        \n",
    "    if unwrap == True:\n",
    "        output = np.array(new_values)\n",
    "    else:\n",
    "        output = new_values\n",
    "    \n",
    "    return output\n",
    "\n",
    "    \n",
    "    \n",
    "    "
   ]
  },
  {
   "cell_type": "code",
   "execution_count": 8,
   "metadata": {},
   "outputs": [
    {
     "name": "stdout",
     "output_type": "stream",
     "text": [
      "2022-05-26 21:54:13.286248\n",
      "38718\n",
      "2022-05-26 21:54:14.870964\n"
     ]
    },
    {
     "data": {
      "text/plain": [
       "numpy.ndarray"
      ]
     },
     "execution_count": 8,
     "metadata": {},
     "output_type": "execute_result"
    }
   ],
   "source": [
    "print(datetime.datetime.now())\n",
    "remap_1 = {1:4, 2:3, 3:2, 4:1, 5:None}\n",
    "test_output = remap_vector(df[\"qa1a_2\"], remap_1)\n",
    "print(str(df[\"qa1a_2\"].size))\n",
    "print(datetime.datetime.now())\n",
    "\n",
    "type(test_output)\n"
   ]
  },
  {
   "cell_type": "code",
   "execution_count": 9,
   "metadata": {},
   "outputs": [
    {
     "name": "stdout",
     "output_type": "stream",
     "text": [
      "2022-05-26 21:54:14.963717\n",
      "         qa1a       qa2a     \n",
      "         mean  std  mean  std\n",
      "country                      \n",
      "GB       2.29  0.0  3.35  0.0\n",
      "Italy    2.53  0.0  3.05  0.0\n",
      "2022-05-26 21:54:15.944361\n"
     ]
    }
   ],
   "source": [
    "# REmapping for Qa1a, below are the original values\n",
    "# VeryGood-1, RatherG-2, RBad-3, VB-4, I believe 5 is the NA value, as it has a pick rate of c. 1% and the survey NA value of 999 is not present\n",
    "remap_1 = {1:4, 2:3, 3:2, 4:1, 5:None}\n",
    "\n",
    "# REmapping for Qa2a\n",
    "# Better-1, Worse-2, Same-3, I believe 4 is the NA value, as it has a pick rate of c. 1% and the survey NA value of 999 is not present\n",
    "remap_2 = {1:4, 2:1, 3:2.5, 4:None}\n",
    "\n",
    "unit_group_request_list = [{\"unit_group\" : [\"GB\"], \"unit_name\": \"GB\"}, \n",
    "                           {\"unit_group\" : [\"IT\"], \"unit_name\": \"Italy\"}]\n",
    "unit_group_column = \"isocntry\"\n",
    "unit_group_name = \"country\"\n",
    "data_request_list = [{\"data_group\": [\"qa1a_1\", \"qa1a_2\", \"qa1a_3\", \"qa1a_4\", \"qa1a_5\", \"qa1a_6\", \"qa1a_7\"], \"data_group_name\": \"qa1a\", \"remap_dict\": remap_1},\n",
    "                     {\"data_group\": [\"qa2a_1\", \"qa2a_2\", \"qa2a_3\", \"qa2a_4\", \"qa2a_5\", \"qa2a_6\", \"qa2a_7\"], \"data_group_name\": \"qa2a\", \"remap_dict\": remap_2}]\n",
    "\n",
    "test_list = [\"a\",\"b\"]\n",
    "test_dict = {\"a\":1, \"b\":2}\n",
    "\n",
    "print(datetime.datetime.now())\n",
    "#return_stats_on_group(df, [\"qa1a_2\"], {\"isocntry\":\"LT\"})\n",
    "df_results = run_study(unit_group_request_list, unit_group_column, unit_group_name, data_request_list)\n",
    "print(df_results)\n",
    "print(datetime.datetime.now())"
   ]
  },
  {
   "cell_type": "code",
   "execution_count": 10,
   "metadata": {},
   "outputs": [
    {
     "name": "stdout",
     "output_type": "stream",
     "text": [
      "0.0011013507431178252\n"
     ]
    },
    {
     "data": {
      "text/plain": [
       "'\"Links on heatmapping and seaborn pairplot to impliment in these methods:\\nhttps://seaborn.pydata.org/generated/seaborn.heatmap.html\\nhttps://seaborn.pydata.org/generated/seaborn.pairplot.html\\n'"
      ]
     },
     "execution_count": 10,
     "metadata": {},
     "output_type": "execute_result"
    },
    {
     "data": {
      "image/png": "[encoded data removed]",
      "text/plain": [
       "<Figure size 432x288 with 1 Axes>"
      ]
     },
     "metadata": {
      "needs_background": "light"
     },
     "output_type": "display_data"
    },
    {
     "data": {
      "image/png": "[encoded data removed]",
      "text/plain": [
       "<Figure size 432x288 with 1 Axes>"
      ]
     },
     "metadata": {
      "needs_background": "light"
     },
     "output_type": "display_data"
    },
    {
     "data": {
      "image/png": "[encoded data removed]",
      "text/plain": [
       "<Figure size 360x360 with 6 Axes>"
      ]
     },
     "metadata": {
      "needs_background": "light"
     },
     "output_type": "display_data"
    }
   ],
   "source": [
    "df_1 = df[[\"isocntry\",\"qa1a_2\",\"d8\"]]\n",
    "df_2 = df_1[df_1['isocntry']==\"LT\"]\n",
    "corr_education_econ = df_2[\"qa1a_2\"].corr(df_2[\"d8\"])\n",
    "print(corr_education_econ)\n",
    "\n",
    "\n",
    "plt.scatter(df_2[\"d8\"], df_2[\"qa1a_2\"])\n",
    "df_2.hist(\"qa1a_2\")\n",
    "sns.pairplot(df_2[['qa1a_2', \"d8\"]], palette=\"vlag\", kind=\"hist\")\n",
    "\n",
    "\"\"\"\"Links on heatmapping and seaborn pairplot to impliment in these methods:\n",
    "https://seaborn.pydata.org/generated/seaborn.heatmap.html\n",
    "https://seaborn.pydata.org/generated/seaborn.pairplot.html\n",
    "\"\"\"\n"
   ]
  },
  {
   "cell_type": "code",
   "execution_count": 11,
   "metadata": {},
   "outputs": [
    {
     "data": {
      "image/png": "[encoded data removed]",
      "text/plain": [
       "<Figure size 720x504 with 1 Axes>"
      ]
     },
     "metadata": {
      "needs_background": "light"
     },
     "output_type": "display_data"
    },
    {
     "name": "stdout",
     "output_type": "stream",
     "text": [
      "Not sure on the conclusions here, most people are in the middle. The fewer people at the extreme may explain the apparent reduction in spread shown the quartiles plot above?\n",
      "\n",
      "Maybe age according is a better demographic to look at?\n"
     ]
    }
   ],
   "source": [
    "# VeryGood-1, RatherG-2, RBad-3, VB-4, I believe 5 is the NA value, as it has a pick rate of c. 1% and the survey NA value of 999 is not present\n",
    "df_3 = df_2[df_2['d8']<80][['qa1a_2', \"d8\"]]\n",
    "#sns.pairplot(df_3, palette=\"vlag\", kind=\"hist\")\n",
    "df_3_very_good      = df_3[df_3['qa1a_2']==1]['d8']\n",
    "df_3_rather_good    = df_3[df_3['qa1a_2']==2]['d8']\n",
    "df_3_rather_bad     = df_3[df_3['qa1a_2']==3]['d8']\n",
    "df_3_very_bad       = df_3[df_3['qa1a_2']==4]['d8']\n",
    "\n",
    "data = [df_3_very_good, df_3_rather_good, df_3_rather_bad , df_3_very_bad]\n",
    "\n",
    "\n",
    "fig = plt.figure(figsize = (10, 7))\n",
    " \n",
    "# Creating axes instance\n",
    "ax = fig.add_axes([0, 0, 1, 1])\n",
    "ax.set_xticklabels(['v bad', 'r bad',\n",
    "                    'r good', 'v good'])\n",
    "plt.title(\"Judgement of the current situation vs age at end of education (unsure of sample)\")\n",
    "\n",
    "# Creating plot\n",
    "bp = ax.boxplot(data)\n",
    " \n",
    "# show plot\n",
    "plt.show()\n",
    "print(\"Not sure on the conclusions here, most people are in the middle. The fewer people at the extreme may explain the apparent reduction in spread shown the quartiles plot above?\")\n",
    "print()\n",
    "print(\"Maybe age according is a better demographic to look at?\")"
   ]
  },
  {
   "cell_type": "code",
   "execution_count": 12,
   "metadata": {},
   "outputs": [],
   "source": [
    "def digest_multiple_choice_questions(database, column_ranges):\n",
    "    \n",
    "    \n",
    "    print(\"Hello\")\n",
    "    \n",
    "    \n",
    "    \n",
    "test = {(1,2):0.6}"
   ]
  },
  {
   "cell_type": "code",
   "execution_count": 13,
   "metadata": {},
   "outputs": [],
   "source": [
    "def transfer_columns(new_df, original_df, target_string, target_string_at_start=True, data_columns_exact_match=False):\n",
    "    #this method scans every column header of original_df and if target_string is contained within a header, at column is added to new df.\n",
    "    #this allows me to iterativelly add groups of columns from the original datarame to the reduced datafrom for the analysis\n",
    "    #target string must be entered as a string\n",
    "    columns_original = original_df.columns\n",
    "    columns_new = new_df.columns\n",
    "    if type(target_string) is str:\n",
    "        target_string = [target_string]\n",
    "    \n",
    "    for string_ in target_string:\n",
    "        for col in columns_original:\n",
    "            if col.find(string_) >= 0 and not col in new_df and target_string_at_start==False: #FG_Note: test this additional boolean\n",
    "                new_df = pd.concat([new_df, original_df[col]], axis=1)\n",
    "            if col.find(string_) == 0 and not col in new_df and target_string_at_start==True:\n",
    "                new_df = pd.concat([new_df, original_df[col]], axis=1)\n",
    "        \n",
    "    return new_df\n",
    "\n",
    "\n",
    "def round_list_dict_to_one_dp(list_or_dict):\n",
    "    if isinstance(list_or_dict, dict):\n",
    "        output = dict()\n",
    "        for key, value in zip(list_or_dict.keys(), list_or_dict.values()):\n",
    "            output[key] = float(\"{:.1f}\".format(value))\n",
    "    \n",
    "\n",
    "def return_all_column_names_beginning_with_prefix(column_names, prefix):    \n",
    "    col_list = []\n",
    "    for col_name in column_names:\n",
    "        if col_name.find(prefix) == 0:\n",
    "            col_list = col_list + [col_name]\n",
    "    return col_list\n",
    "\n",
    "def run_link_study_on_pre_filtered_db(df, start_column, end_column, weight_vector):\n",
    "    \"\"\"The in the euro barmeter there are questions which ask the reader two select two (2) issues they feel are most important fo X (i.e. themselves, the EU, their country)\n",
    "    Their choices are populated with a 1 in the collumn of the respective selection.\n",
    "    This method collects the frequency of each selection and the frequency of each combination of issues.\n",
    "    DF = the table, filtered for demongraphics\n",
    "    start_column = the first column of the \n",
    "    \n",
    "    \"\"\"\n",
    "    test_df = pd.DataFrame()\n",
    "    weights = pd.DataFrame()\n",
    "    singular_values_weighted = {}\n",
    "    singular_values_weighted_doubled_if_single = {}\n",
    "    #test_df = test_df[test_df[\"isocntry\"]==\"LT\"]\n",
    "    results_dict = {}\n",
    "    study_area = test_df.loc[:,start_column:end_column]#\"qa3a_1\":\"qa3a_18\"]\n",
    "    weights[\"weight\"] = weight_vector\n",
    "    col_qty = len(study_area.columns)\n",
    "    col_names = study_area.columns\n",
    "    row_names = study_area.index\n",
    "    for row in range(0, len(study_area)):\n",
    "        row_result = []\n",
    "        #while len(row_result) < 2:\n",
    "        for col in range(0,len(col_names)):\n",
    "            if study_area.loc[row_names[row], col_names[col]] == 1:\n",
    "                row_result = row_result + [int(col_names[col][col_names[col].find(\"_\")+1:])]\n",
    "            if len(row_result) == 2:\n",
    "                break\n",
    "        #add to \"link dictionary\" stats\n",
    "        key = tuple(row_result)\n",
    "        if isinstance(weights, pd.DataFrame):\n",
    "            weight = weights.loc[row_names[row], :][0]\n",
    "        else:\n",
    "            weight = 1\n",
    "            \n",
    "        #if len(weight) > 1:\n",
    "        #    errmsg = 'Please check method can take more then one weight'\n",
    "        #    raise ValueError(errmsg)\n",
    "        if key in results_dict.keys():\n",
    "            results_dict[key] += weight\n",
    "        else:\n",
    "            results_dict[key] = weight\n",
    "        \n",
    "        #add to singular values stats\n",
    "        if len(row_result) == 1:\n",
    "            adjusted_weight = 2 * weight\n",
    "        else:\n",
    "            adjusted_weight = weight    \n",
    "        \n",
    "        for i in row_result:\n",
    "            if key in singular_values_weighted.keys():\n",
    "                singular_values_weighted[i]                     += weight\n",
    "                singular_values_weighted_doubled_if_single[i]   += adjusted_weight\n",
    "            else:\n",
    "                singular_values_weighted[i]                     = weight\n",
    "                singular_values_weighted_doubled_if_single[i]   = adjusted_weight\n",
    "        \n",
    "    results_dict = round_list_dict_to_one_dp(results_dict)\n",
    "    singular_values_weighted = round_list_dict_to_one_dp(singular_values_weighted)\n",
    "    singular_values_weighted_doubled_if_single = round_list_dict_to_one_dp(singular_values_weighted_doubled_if_single)\n",
    "    \n",
    "    return results_dict, singular_values_weighted, singular_values_weighted_doubled_if_single\n",
    "\n",
    "\n",
    "results_dict, singular_values_weighted, singular_values_weighted_doubled_if_single = run_link_study_on_pre_filtered_db(df[df[\"isocntry\"]==\"GB\"],\"qa3a_1\",\"qa3a_18\", df[\"w1\"])\n",
    "    \n",
    "\n"
   ]
  },
  {
   "cell_type": "code",
   "execution_count": 14,
   "metadata": {},
   "outputs": [
    {
     "data": {
      "text/plain": [
       "'results_dict_1dp = map(lambda x:float(\"{:.1f}\".format(x)), results_dict);\\n\\nprint(results_dict_1dp)\\n\\n\\n\\nresults_dict_1dp_3 = dict()\\nfor key, value in zip(results_dict.keys(), results_dict.values()):\\n   results_dict_1dp_3[key] = float(\"{:.1f}\".format(value))\\n\\n\\n#value\\n    \\n\\n'"
      ]
     },
     "execution_count": 14,
     "metadata": {},
     "output_type": "execute_result"
    }
   ],
   "source": [
    "\n",
    "\n",
    "\"\"\"results_dict_1dp = map(lambda x:float(\"{:.1f}\".format(x)), results_dict);\n",
    "\n",
    "print(results_dict_1dp)\n",
    "\n",
    "\n",
    "\n",
    "results_dict_1dp_3 = dict()\n",
    "for key, value in zip(results_dict.keys(), results_dict.values()):\n",
    "   results_dict_1dp_3[key] = float(\"{:.1f}\".format(value))\n",
    "\n",
    "\n",
    "#value\n",
    "    \n",
    "\n",
    "\"\"\"\n"
   ]
  },
  {
   "cell_type": "markdown",
   "metadata": {},
   "source": []
  },
  {
   "cell_type": "code",
   "execution_count": 15,
   "metadata": {},
   "outputs": [
    {
     "name": "stdout",
     "output_type": "stream",
     "text": [
      "479\n",
      "<class 'pandas.core.frame.DataFrame'>\n",
      "Int64Index: 38718 entries, 0 to 38717\n",
      "Columns: 479 entries, studyno1 to w87\n",
      "dtypes: float64(284), int16(5), int32(3), int8(184), object(3)\n",
      "memory usage: 93.7+ MB\n"
     ]
    }
   ],
   "source": [
    "print(len(df.loc[0,:]))\n",
    "df.info()"
   ]
  },
  {
   "cell_type": "code",
   "execution_count": 16,
   "metadata": {},
   "outputs": [
    {
     "ename": "AttributeError",
     "evalue": "'NoneType' object has no attribute 'values'",
     "output_type": "error",
     "traceback": [
      "\u001b[1;31m---------------------------------------------------------------------------\u001b[0m",
      "\u001b[1;31mAttributeError\u001b[0m                            Traceback (most recent call last)",
      "\u001b[1;32mc:\\Users\\fabio\\OneDrive\\Documents\\Studies\\Social_Research\\Statistical-Learning_Exercise-1_Trust-within-the-EU\\Stat_Learn_Practical_Activities_1.ipynb Cell 15'\u001b[0m in \u001b[0;36m<cell line: 5>\u001b[1;34m()\u001b[0m\n\u001b[0;32m      <a href='vscode-notebook-cell:/c%3A/Users/fabio/OneDrive/Documents/Studies/Social_Research/Statistical-Learning_Exercise-1_Trust-within-the-EU/Stat_Learn_Practical_Activities_1.ipynb#ch0000014?line=1'>2</a>\u001b[0m \u001b[39mimport\u001b[39;00m \u001b[39mmatplotlib\u001b[39;00m\u001b[39m.\u001b[39;00m\u001b[39mpyplot\u001b[39;00m \u001b[39mas\u001b[39;00m \u001b[39mplt\u001b[39;00m\n\u001b[0;32m      <a href='vscode-notebook-cell:/c%3A/Users/fabio/OneDrive/Documents/Studies/Social_Research/Statistical-Learning_Exercise-1_Trust-within-the-EU/Stat_Learn_Practical_Activities_1.ipynb#ch0000014?line=3'>4</a>\u001b[0m weight_relative_to_pop \u001b[39m=\u001b[39m \u001b[39mTrue\u001b[39;00m\n\u001b[1;32m----> <a href='vscode-notebook-cell:/c%3A/Users/fabio/OneDrive/Documents/Studies/Social_Research/Statistical-Learning_Exercise-1_Trust-within-the-EU/Stat_Learn_Practical_Activities_1.ipynb#ch0000014?line=4'>5</a>\u001b[0m total_pop_weight \u001b[39m=\u001b[39m \u001b[39msum\u001b[39m(singular_values_weighted\u001b[39m.\u001b[39;49mvalues())\n\u001b[0;32m      <a href='vscode-notebook-cell:/c%3A/Users/fabio/OneDrive/Documents/Studies/Social_Research/Statistical-Learning_Exercise-1_Trust-within-the-EU/Stat_Learn_Practical_Activities_1.ipynb#ch0000014?line=6'>7</a>\u001b[0m \u001b[39m# generate some example data\u001b[39;00m\n\u001b[0;32m      <a href='vscode-notebook-cell:/c%3A/Users/fabio/OneDrive/Documents/Studies/Social_Research/Statistical-Learning_Exercise-1_Trust-within-the-EU/Stat_Learn_Practical_Activities_1.ipynb#ch0000014?line=7'>8</a>\u001b[0m dim \u001b[39m=\u001b[39m \u001b[39mmax\u001b[39m(\u001b[39mlist\u001b[39m(singular_values_weighted\u001b[39m.\u001b[39mkeys())) \u001b[39m-\u001b[39m \u001b[39mmin\u001b[39m(\u001b[39mlist\u001b[39m(singular_values_weighted\u001b[39m.\u001b[39mkeys())) \u001b[39m+\u001b[39m \u001b[39m1\u001b[39m\n",
      "\u001b[1;31mAttributeError\u001b[0m: 'NoneType' object has no attribute 'values'"
     ]
    }
   ],
   "source": [
    "import numpy as np\n",
    "import matplotlib.pyplot as plt\n",
    "\n",
    "weight_relative_to_pop = True\n",
    "total_pop_weight = sum(singular_values_weighted.values())\n",
    "\n",
    "# generate some example data\n",
    "dim = max(list(singular_values_weighted.keys())) - min(list(singular_values_weighted.keys())) + 1\n",
    "matrix = np.empty((dim, dim,))\n",
    "matrix[:] = np.nan\n",
    "\n",
    "for keys in results_dict:\n",
    "    if len(keys) == 2:\n",
    "        value = results_dict[keys]\n",
    "        if weight_relative_to_pop == True:\n",
    "            value = value / total_pop_weight\n",
    "        matrix[keys[0]-1, keys[1]-1] = value #values\n",
    "        \n",
    "\n",
    "for y in range(0, dim):\n",
    "    for x in range(0, dim):\n",
    "        if matrix[x, y] == np.nan:\n",
    "            matrix[x, y] = 0\n",
    "\n",
    "# plot the matrix as an image with an appropriate colormap\n",
    "plt.imshow(matrix.T, aspect='auto', cmap=\"Reds\")\n",
    "\n",
    "# add the values\n",
    "for (i, j), value in np.ndenumerate(matrix):\n",
    "    plt.text(i, j, \"%.3f\"%value, va='center', ha='center')\n",
    "\n",
    "tickvalues = range(0,dim)\n",
    "plt.xticks(ticks = tickvalues ,labels = qa2a_labels, rotation = 'vertical')\n",
    "plt.yticks(ticks = tickvalues ,labels = qa2a_labels, rotation = 'horizontal')\n",
    "\n",
    "plt.rcParams[\"figure.figsize\"] = (30,25)\n",
    "\n",
    "\n",
    "\n",
    "#plt.axis('off')\n",
    "plt.show()\n",
    "\n",
    "\n"
   ]
  },
  {
   "cell_type": "code",
   "execution_count": null,
   "metadata": {},
   "outputs": [
    {
     "data": {
      "text/plain": [
       "'col_list = []\\nfor col_name in df.columns:\\n    if \"qa3a_\" in col_name:\\n        col_list = col_list + [col_name]\\ndf[col_list]\\n#df[qa3a_1:qa3a_18]'"
      ]
     },
     "execution_count": 14,
     "metadata": {},
     "output_type": "execute_result"
    },
    {
     "ename": "",
     "evalue": "",
     "output_type": "error",
     "traceback": [
      "\u001b[1;31mThe kernel failed to start due to the missing module 'prompt_toolkit.formatted_text'. Consider installing this module.\n",
      "Click <a href='https://aka.ms/kernelFailuresMissingModule'>here</a> for more info."
     ]
    },
    {
     "ename": "",
     "evalue": "",
     "output_type": "error",
     "traceback": [
      "\u001b[1;31mThe kernel failed to start due to the missing module 'prompt_toolkit.formatted_text'. Consider installing this module.\n",
      "Click <a href='https://aka.ms/kernelFailuresMissingModule'>here</a> for more info."
     ]
    },
    {
     "ename": "",
     "evalue": "",
     "output_type": "error",
     "traceback": [
      "\u001b[1;31mThe kernel failed to start due to the missing module 'prompt_toolkit.formatted_text'. Consider installing this module.\n",
      "Click <a href='https://aka.ms/kernelFailuresMissingModule'>here</a> for more info."
     ]
    }
   ],
   "source": [
    "\"\"\"col_list = []\n",
    "for col_name in df.columns:\n",
    "    if \"qa3a_\" in col_name:\n",
    "        col_list = col_list + [col_name]\n",
    "df[col_list]\n",
    "#df[qa3a_1:qa3a_18]\"\"\""
   ]
  }
 ],
 "metadata": {
  "interpreter": {
   "hash": "6f59339097bb9ac4cf41ab9fa2e7f783ea6bb84442f6ce2c2671fa41ded377c2"
  },
  "kernelspec": {
   "display_name": "Python 3.10.2 64-bit",
   "language": "python",
   "name": "python3"
  },
  "language_info": {
   "codemirror_mode": {
    "name": "ipython",
    "version": 3
   },
   "file_extension": ".py",
   "mimetype": "text/x-python",
   "name": "python",
   "nbconvert_exporter": "python",
   "pygments_lexer": "ipython3",
   "version": "3.10.2"
  },
  "orig_nbformat": 4
 },
 "nbformat": 4,
 "nbformat_minor": 2
}
