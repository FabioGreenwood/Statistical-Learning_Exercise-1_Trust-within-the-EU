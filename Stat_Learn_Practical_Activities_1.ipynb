{
 "cells": [
  {
   "cell_type": "code",
   "execution_count": 1,
   "metadata": {},
   "outputs": [],
   "source": [
    "import numpy as np\n",
    "import pandas as pd\n",
    "import os\n",
    "import seaborn as sns\n",
    "import matplotlib.pyplot\n",
    "import sklearn.linear_model\n",
    "import matplotlib.pyplot as plt\n",
    "import pyreadstat\n",
    "import datetime\n",
    "import FG_Methods_1\n",
    "import tabulate\n",
    "import seaborn as sns\n",
    "\n",
    "import warnings\n",
    "\n",
    "warnings.filterwarnings(\"ignore\")"
   ]
  },
  {
   "cell_type": "code",
   "execution_count": 2,
   "metadata": {},
   "outputs": [
    {
     "name": "stdout",
     "output_type": "stream",
     "text": [
      "<class 'pandas.core.frame.DataFrame'>\n",
      "Int64Index: 38718 entries, 0 to 38717\n",
      "Columns: 479 entries, studyno1 to w87\n",
      "dtypes: float64(284), int16(5), int32(3), int8(184), object(3)\n",
      "memory usage: 92.7+ MB\n",
      "['AL', 'AT', 'BA', 'BE', 'BG', 'CH', 'CY', 'CY-TCC', 'CZ', 'DE-E', 'DE-W', 'DK', 'EE', 'ES', 'FI', 'FR', 'GB', 'GR', 'HR', 'HU', 'IE', 'IS', 'IT', 'LT', 'LU', 'LV', 'ME', 'MK', 'MT', 'NL', 'NO', 'PL', 'PT', 'RO', 'RS', 'RS-KM', 'SE', 'SI', 'SK', 'TR']\n"
     ]
    }
   ],
   "source": [
    "# Initialise Values\n",
    "\n",
    "df_path = \"C:\\\\Users\\\\fabio\\\\OneDrive\\\\Documents\\\\Studies\\\\Social_Research\\\\data\\\\ZA7780_v1-0-0.dta\"\n",
    "df = pd.read_stata(df_path, convert_categoricals=False)\n",
    "df.info()\n",
    "\n",
    "unique_country_codes = set(df[\"isocntry\"].values)\n",
    "unique_country_codes = sorted(unique_country_codes)\n",
    "print(unique_country_codes)"
   ]
  },
  {
   "cell_type": "code",
   "execution_count": 3,
   "metadata": {},
   "outputs": [
    {
     "data": {
      "text/plain": [
       "'project_folder = \"C:\\\\Users\\\\fabio\\\\OneDrive\\\\Documents\\\\Studies\\\\Social_Research\\\\\"\\n\\ndf_column_headers = \"\"\\nfor i in df.columns:\\n    if i == df.columns[0]:\\n        df_column_headers = i\\n    else:\\n        df_column_headers = df_column_headers + \", \" + i\\n\\nnp.savetxt(project_folder + \\'social_research_dataframe.csv\\',  np.asarray(df), header=df_column_headers, delimiter=\\',\\', fmt=\\'%s\\')'"
      ]
     },
     "execution_count": 3,
     "metadata": {},
     "output_type": "execute_result"
    }
   ],
   "source": [
    "#Output Dataframe as csv\n",
    "\n",
    "\"\"\"project_folder = \"C:\\\\Users\\\\fabio\\\\OneDrive\\\\Documents\\\\Studies\\\\Social_Research\\\\\"\n",
    "\n",
    "df_column_headers = \"\"\n",
    "for i in df.columns:\n",
    "    if i == df.columns[0]:\n",
    "        df_column_headers = i\n",
    "    else:\n",
    "        df_column_headers = df_column_headers + \", \" + i\n",
    "\n",
    "np.savetxt(project_folder + 'social_research_dataframe.csv',  np.asarray(df), header=df_column_headers, delimiter=',', fmt='%s')\"\"\"\n"
   ]
  },
  {
   "cell_type": "code",
   "execution_count": 19,
   "metadata": {},
   "outputs": [],
   "source": [
    "def return_stats_on_group(df, column_names, conditions, remap_dict):\n",
    "    df_filtered = df\n",
    "    collected_values, collected_means = [], []\n",
    "    \n",
    "    for col, condition in conditions.items():\n",
    "        df_filtered = df_filtered[df_filtered[col]==condition]\n",
    "    for target_value in column_names:\n",
    "        \n",
    "        if not remap_dict == None:\n",
    "            df_remapped = remap_vector(df_filtered[target_value], remap_dict)\n",
    "        else:\n",
    "            df_remapped = df_filtered[target_value]\n",
    "            \n",
    "        collected_means  = np.append(collected_means, df_remapped.mean())\n",
    "        collected_values = np.append(collected_values, df_remapped)\n",
    "    \n",
    "    output_mean, output_std = collected_means.mean(), np.nanstd(np.array(collected_values).std())\n",
    "    output_mean, output_std = float(\"{:.2f}\".format(output_mean)), float(\"{:.2f}\".format(output_std))\n",
    "    \n",
    "    return output_mean, output_std\n",
    "\n",
    "def run_study(unit_group_request_list, unit_group_column, unit_group_name, data_request_list):\n",
    "    df_results = pd.DataFrame()\n",
    "    \n",
    "    for unit_request in unit_group_request_list:\n",
    "        unit_request_2 = {unit_group_column: v for v in unit_request[\"unit_group\"]}\n",
    "        \n",
    "        for data_request in data_request_list:\n",
    "            remap_dict = data_request[\"remap_dict\"]\n",
    "            output_mean, output_std = return_stats_on_group(df, data_request['data_group'], unit_request_2, remap_dict)\n",
    "            \n",
    "            #enter data to series - FG_note: this likely still clunkly, I'm not sure why I'm using all these dictionaries\n",
    "            result_dict = {(data_request[\"data_group_name\"], \"mean\"): output_mean, (data_request[\"data_group_name\"], \"std\"): output_std}\n",
    "            result_series = pd.Series(result_dict, name=unit_request[\"unit_name\"])\n",
    "            df_results = df_results.append(result_series)\n",
    "    \n",
    "    df_results[unit_group_name] = df_results.index\n",
    "    df_results = df_results.groupby(unit_group_name).mean()\n",
    "    return df_results\n",
    "\n",
    "\n",
    "def remap_vector(stats_vector, remap_dict):\n",
    "    unwrap = False\n",
    "    original_values = []\n",
    "    new_values = []\n",
    "    if not isinstance(stats_vector, list):\n",
    "        original_values = stats_vector.values.tolist()\n",
    "        unwrap = True\n",
    "    else:\n",
    "        original_values = stats_vector\n",
    "        \n",
    "    for i in original_values:\n",
    "        new_values = new_values + [remap_dict[original_values[i]]] \n",
    "        \n",
    "    if unwrap == True:\n",
    "        output = np.array(new_values)\n",
    "    else:\n",
    "        output = new_values\n",
    "    \n",
    "    return output\n",
    "\n",
    "    \n",
    "    \n",
    "    "
   ]
  },
  {
   "cell_type": "code",
   "execution_count": 13,
   "metadata": {},
   "outputs": [
    {
     "name": "stdout",
     "output_type": "stream",
     "text": [
      "2022-04-26 16:55:10.382550\n",
      "38718\n",
      "2022-04-26 16:55:12.516836\n"
     ]
    },
    {
     "data": {
      "text/plain": [
       "numpy.ndarray"
      ]
     },
     "execution_count": 13,
     "metadata": {},
     "output_type": "execute_result"
    }
   ],
   "source": [
    "print(datetime.datetime.now())\n",
    "remap_1 = {1:4, 2:3, 3:2, 4:1, 5:None}\n",
    "test_output = remap_vector(df[\"qa1a_2\"], remap_1)\n",
    "print(str(df[\"qa1a_2\"].size))\n",
    "print(datetime.datetime.now())\n",
    "\n",
    "type(test_output)\n"
   ]
  },
  {
   "cell_type": "code",
   "execution_count": 21,
   "metadata": {},
   "outputs": [
    {
     "name": "stdout",
     "output_type": "stream",
     "text": [
      "2022-04-26 16:58:29.332916\n"
     ]
    }
   ],
   "source": [
    "# REmapping for Qa1a, below are the original values\n",
    "# VeryGood-1, RatherG-2, RBad-3, VB-4, I believe 5 is the NA value, as it has a pick rate of c. 1% and the survey NA value of 999 is not present\n",
    "remap_1 = {1:4, 2:3, 3:2, 4:1, 5:None}\n",
    "\n",
    "# REmapping for Qa2a\n",
    "# Better-1, Worse-2, Same-3, I believe 4 is the NA value, as it has a pick rate of c. 1% and the survey NA value of 999 is not present\n",
    "remap_2 = {1:4, 2:1, 3:2.5, 4:None}\n",
    "\n",
    "unit_group_request_list = [{\"unit_group\" : [\"GB\"], \"unit_name\": \"GB\"}, \n",
    "                           {\"unit_group\" : [\"IT\"], \"unit_name\": \"Italy\"}]\n",
    "unit_group_column = \"isocntry\"\n",
    "unit_group_name = \"country\"\n",
    "data_request_list = [{\"data_group\": [\"qa1a_1\", \"qa1a_2\", \"qa1a_3\", \"qa1a_4\", \"qa1a_5\", \"qa1a_6\", \"qa1a_7\"], \"data_group_name\": \"qa1a\", \"remap_dict\": remap_1},\n",
    "                     {\"data_group\": [\"qa2a_1\", \"qa2a_2\", \"qa2a_3\", \"qa2a_4\", \"qa2a_5\", \"qa2a_6\", \"qa2a_7\"], \"data_group_name\": \"qa2a\", \"remap_dict\": remap_2}]\n",
    "\n",
    "test_list = [\"a\",\"b\"]\n",
    "test_dict = {\"a\":1, \"b\":2}\n",
    "\n",
    "print(datetime.datetime.now())\n",
    "#return_stats_on_group(df, [\"qa1a_2\"], {\"isocntry\":\"LT\"})\n",
    "df_results = run_study(unit_group_request_list, unit_group_column, unit_group_name, data_request_list)\n",
    "print(df_results)\n",
    "print(datetime.datetime.now())"
   ]
  },
  {
   "cell_type": "code",
   "execution_count": 19,
   "metadata": {},
   "outputs": [
    {
     "name": "stdout",
     "output_type": "stream",
     "text": [
      "qa2a_1    4\n",
      "qa2a_2    4\n",
      "qa2a_3    4\n",
      "qa2a_4    4\n",
      "qa2a_5    4\n",
      "qa2a_6    4\n",
      "qa2a_7    4\n",
      "dtype: int8\n",
      "qa2a_1    1\n",
      "qa2a_2    1\n",
      "qa2a_3    1\n",
      "qa2a_4    1\n",
      "qa2a_5    1\n",
      "qa2a_6    1\n",
      "qa2a_7    1\n",
      "dtype: int8\n",
      "studyno1    506\n",
      "studyno2    506\n",
      "doi         506\n",
      "version     506\n",
      "edition     506\n",
      "           ... \n",
      "w100         63\n",
      "w97          32\n",
      "w22         383\n",
      "w92         506\n",
      "w87         385\n",
      "Length: 479, dtype: int64\n",
      "38718\n"
     ]
    }
   ],
   "source": [
    "print(df[[\"qa2a_1\", \"qa2a_2\", \"qa2a_3\", \"qa2a_4\", \"qa2a_5\", \"qa2a_6\", \"qa2a_7\"]].max())\n",
    "print(df[[\"qa2a_1\", \"qa2a_2\", \"qa2a_3\", \"qa2a_4\", \"qa2a_5\", \"qa2a_6\", \"qa2a_7\"]].min())\n",
    "print(df[df[\"qa2a_1\"]==4].count())\n",
    "print(df[\"qa2a_1\"].count())\n",
    "    \n",
    "    \n",
    "    \n"
   ]
  },
  {
   "cell_type": "code",
   "execution_count": 10,
   "metadata": {},
   "outputs": [
    {
     "name": "stdout",
     "output_type": "stream",
     "text": [
      "0.0011013507431178252\n"
     ]
    },
    {
     "data": {
      "text/plain": [
       "'\"Links on heatmapping and seaborn pairplot to impliment in these methods:\\nhttps://seaborn.pydata.org/generated/seaborn.heatmap.html\\n\\n\\n\\n'"
      ]
     },
     "execution_count": 10,
     "metadata": {},
     "output_type": "execute_result"
    },
    {
     "data": {
      "image/png": "[encoded data removed]",
      "text/plain": [
       "<Figure size 432x288 with 1 Axes>"
      ]
     },
     "metadata": {
      "needs_background": "light"
     },
     "output_type": "display_data"
    },
    {
     "data": {
      "image/png": "[encoded data removed]",
      "text/plain": [
       "<Figure size 432x288 with 1 Axes>"
      ]
     },
     "metadata": {
      "needs_background": "light"
     },
     "output_type": "display_data"
    },
    {
     "data": {
      "image/png": "[encoded data removed]",
      "text/plain": [
       "<Figure size 360x360 with 6 Axes>"
      ]
     },
     "metadata": {
      "needs_background": "light"
     },
     "output_type": "display_data"
    }
   ],
   "source": [
    "df_1 = df[[\"isocntry\",\"qa1a_2\",\"d8\"]]\n",
    "df_2 = df_1[df_1['isocntry']==\"LT\"]\n",
    "corr_education_econ = df_2[\"qa1a_2\"].corr(df_2[\"d8\"])\n",
    "print(corr_education_econ)\n",
    "\n",
    "\n",
    "plt.scatter(df_2[\"d8\"], df_2[\"qa1a_2\"])\n",
    "df_2.hist(\"qa1a_2\")\n",
    "sns.pairplot(df_2[['qa1a_2', \"d8\"]], palette=\"vlag\", kind=\"hist\")\n",
    "\n",
    "\"\"\"\"Links on heatmapping and seaborn pairplot to impliment in these methods:\n",
    "https://seaborn.pydata.org/generated/seaborn.heatmap.html\n",
    "\n",
    "\n",
    "\n",
    "\"\"\"\n"
   ]
  }
 ],
 "metadata": {
  "interpreter": {
   "hash": "d686fb4bba1cd81d322bac49812b464465e293b78591a47e52bedfb124e592be"
  },
  "kernelspec": {
   "display_name": "Python 3.10.2 64-bit",
   "language": "python",
   "name": "python3"
  },
  "language_info": {
   "codemirror_mode": {
    "name": "ipython",
    "version": 3
   },
   "file_extension": ".py",
   "mimetype": "text/x-python",
   "name": "python",
   "nbconvert_exporter": "python",
   "pygments_lexer": "ipython3",
   "version": "3.10.2"
  },
  "orig_nbformat": 4
 },
 "nbformat": 4,
 "nbformat_minor": 2
}
