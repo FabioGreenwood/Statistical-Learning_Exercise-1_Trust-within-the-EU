{
 "cells": [
  {
   "cell_type": "code",
   "execution_count": 2,
   "metadata": {},
   "outputs": [],
   "source": [
    "import numpy as np\n",
    "import pandas as pd\n",
    "import os\n",
    "import seaborn as sns\n",
    "import matplotlib.pyplot\n",
    "import sklearn.linear_model\n",
    "import matplotlib.pyplot as plt\n",
    "import pyreadstat\n",
    "import datetime\n",
    "import FG_Methods\n",
    "import tabulate\n",
    "\n",
    "\n"
   ]
  },
  {
   "cell_type": "code",
   "execution_count": 12,
   "metadata": {},
   "outputs": [
    {
     "name": "stdout",
     "output_type": "stream",
     "text": [
      "<class 'pandas.core.frame.DataFrame'>\n",
      "Int64Index: 38718 entries, 0 to 38717\n",
      "Columns: 479 entries, studyno1 to w87\n",
      "dtypes: float64(284), int16(5), int32(3), int8(184), object(3)\n",
      "memory usage: 92.7+ MB\n"
     ]
    }
   ],
   "source": [
    "df_path = \"C:\\\\Users\\\\fabio\\\\OneDrive\\\\Documents\\\\Studies\\\\Social_Research\\\\data\\\\ZA7780_v1-0-0.dta\"\n",
    "df = pd.read_stata(df_path, convert_categoricals=False)\n",
    "df.info()"
   ]
  },
  {
   "cell_type": "code",
   "execution_count": 4,
   "metadata": {},
   "outputs": [],
   "source": [
    "#Output Dataframe as csv\n",
    "\n",
    "project_folder = \"C:\\\\Users\\\\fabio\\\\OneDrive\\\\Documents\\\\Studies\\\\Social_Research\\\\\"\n",
    "\n",
    "df_column_headers = \"\"\n",
    "for i in df.columns:\n",
    "    if i == df.columns[0]:\n",
    "        df_column_headers = i\n",
    "    else:\n",
    "        df_column_headers = df_column_headers + \", \" + i\n",
    "\n",
    "np.savetxt(project_folder + 'social_research_dataframe.csv',  np.asarray(df), header=df_column_headers, delimiter=',', fmt='%s')\n"
   ]
  },
  {
   "cell_type": "code",
   "execution_count": 5,
   "metadata": {},
   "outputs": [
    {
     "name": "stdout",
     "output_type": "stream",
     "text": [
      "Hello\n"
     ]
    }
   ],
   "source": [
    "print(\"Hello\")"
   ]
  },
  {
   "cell_type": "code",
   "execution_count": 1,
   "metadata": {},
   "outputs": [],
   "source": []
  },
  {
   "cell_type": "code",
   "execution_count": 16,
   "metadata": {},
   "outputs": [
    {
     "data": {
      "text/plain": [
       "'I need to reform the data as a multi-index dictionary.\\nWith the key being\\n\\n'"
      ]
     },
     "execution_count": 16,
     "metadata": {},
     "output_type": "execute_result"
    }
   ],
   "source": [
    "\"\"\"Note this is currently unweighted\"\"\"\n",
    "\"\"\"This is the old version of the data, since I decide to go for a dictionary approach\"\"\"\n",
    "\n",
    "def fg_counter(counter_value, total_iterations_qty, start, number_of_updates_required_for_total_run = 10, update_counter = False):\n",
    "    if float(counter_value) % int(total_iterations_qty / number_of_updates_required_for_total_run) == 0:\n",
    "        print(\"-----\")\n",
    "        print(datetime.now())\n",
    "        PC = float(float(counter_value) / total_iterations_qty)\n",
    "        print(str(counter_value) + \" / \" + str(total_iterations_qty))\n",
    "        print(PC)\n",
    "        print(\"end estimate @: \" + str((datetime.now() - start) * (total_iterations_qty / counter_value) + datetime.now()))\n",
    "        if update_counter == True:\n",
    "            return PC    \n",
    "\n",
    "def transfer_columns(new_df, original_df, target_string, target_string_at_start=True):\n",
    "    #this method scans every column header of original_df and if target_string is contained within a header, at column is added to new df.\n",
    "    #this allows me to iterativelly add groups of columns from the original datarame to the reduced datafrom for the analysis\n",
    "    #target string must be entered as a string\n",
    "    columns = original_df.columns\n",
    "    if type(target_string) is str:\n",
    "        target_string = [target_string]\n",
    "    \n",
    "    for string_ in target_string:\n",
    "        for col in columns:\n",
    "            if col.find(string_) >= 0 and target_string_at_start==False: \n",
    "                new_df = pd.concat([new_df, original_df[col]], axis=1)\n",
    "            if col.find(string_) == 0 and target_string_at_start==True:\n",
    "                new_df = pd.concat([new_df, original_df[col]], axis=1)\n",
    "        \n",
    "    return new_df\n",
    "\n",
    "def return_stats_on_group(original_df, column_name_of_data, column_name_of_group_identifiers, group_identifiers):\n",
    "    group_identifiers_df    = pd.DataFrame()\n",
    "    analysis_df             = pd.DataFrame()\n",
    "    results_df              = pd.DataFrame()\n",
    "    #filter just the columns data we need\n",
    "    group_identifiers_df    = transfer_columns(group_identifiers_df, original_df, column_name_of_group_identifiers)\n",
    "    analysis_df             = transfer_columns(analysis_df, original_df, column_name_of_data)\n",
    "    \n",
    "    #filter groups as required \n",
    "    results_df = analysis_df.loc[group_identifiers_df[column_name_of_group_identifiers] == group_identifiers] \n",
    "\n",
    "    #produce the needed statistics\n",
    "    means   = results_df.mean()\n",
    "    std_dev = results_df.std()\n",
    "    \n",
    "    return group_identifiers, means, std_dev\n",
    "    \n",
    "\n",
    "\n",
    "a, b, c = return_stats_on_group(df, \"qa1a_\",  \"isocntry\", \"GB\")\n",
    "\n",
    "\n",
    "#I need to reform the data as a multi-index dictionary.\n",
    "#With the key being: Country, Value Name, Value\n",
    "\n",
    "\n",
    "\n"
   ]
  },
  {
   "cell_type": "code",
   "execution_count": 22,
   "metadata": {},
   "outputs": [
    {
     "data": {
      "text/html": [
       "<div>\n",
       "<style scoped>\n",
       "    .dataframe tbody tr th:only-of-type {\n",
       "        vertical-align: middle;\n",
       "    }\n",
       "\n",
       "    .dataframe tbody tr th {\n",
       "        vertical-align: top;\n",
       "    }\n",
       "\n",
       "    .dataframe thead tr th {\n",
       "        text-align: left;\n",
       "    }\n",
       "</style>\n",
       "<table border=\"1\" class=\"dataframe\">\n",
       "  <thead>\n",
       "    <tr>\n",
       "      <th></th>\n",
       "      <th colspan=\"4\" halign=\"left\">A</th>\n",
       "      <th colspan=\"4\" halign=\"left\">B</th>\n",
       "    </tr>\n",
       "    <tr>\n",
       "      <th></th>\n",
       "      <th colspan=\"2\" halign=\"left\">a</th>\n",
       "      <th colspan=\"2\" halign=\"left\">b</th>\n",
       "      <th colspan=\"2\" halign=\"left\">a</th>\n",
       "      <th colspan=\"2\" halign=\"left\">b</th>\n",
       "    </tr>\n",
       "    <tr>\n",
       "      <th></th>\n",
       "      <th>mean</th>\n",
       "      <th>std</th>\n",
       "      <th>mean</th>\n",
       "      <th>std</th>\n",
       "      <th>mean</th>\n",
       "      <th>std</th>\n",
       "      <th>mean</th>\n",
       "      <th>std</th>\n",
       "    </tr>\n",
       "  </thead>\n",
       "  <tbody>\n",
       "    <tr>\n",
       "      <th>0</th>\n",
       "      <td>1</td>\n",
       "      <td>1</td>\n",
       "      <td>6</td>\n",
       "      <td>6</td>\n",
       "      <td>2</td>\n",
       "      <td>2</td>\n",
       "      <td>7</td>\n",
       "      <td>7</td>\n",
       "    </tr>\n",
       "    <tr>\n",
       "      <th>1</th>\n",
       "      <td>2</td>\n",
       "      <td>2</td>\n",
       "      <td>7</td>\n",
       "      <td>7</td>\n",
       "      <td>3</td>\n",
       "      <td>3</td>\n",
       "      <td>8</td>\n",
       "      <td>8</td>\n",
       "    </tr>\n",
       "    <tr>\n",
       "      <th>2</th>\n",
       "      <td>3</td>\n",
       "      <td>3</td>\n",
       "      <td>8</td>\n",
       "      <td>8</td>\n",
       "      <td>4</td>\n",
       "      <td>4</td>\n",
       "      <td>9</td>\n",
       "      <td>9</td>\n",
       "    </tr>\n",
       "    <tr>\n",
       "      <th>3</th>\n",
       "      <td>4</td>\n",
       "      <td>4</td>\n",
       "      <td>9</td>\n",
       "      <td>9</td>\n",
       "      <td>5</td>\n",
       "      <td>5</td>\n",
       "      <td>1</td>\n",
       "      <td>1</td>\n",
       "    </tr>\n",
       "    <tr>\n",
       "      <th>4</th>\n",
       "      <td>5</td>\n",
       "      <td>5</td>\n",
       "      <td>1</td>\n",
       "      <td>1</td>\n",
       "      <td>6</td>\n",
       "      <td>6</td>\n",
       "      <td>2</td>\n",
       "      <td>2</td>\n",
       "    </tr>\n",
       "  </tbody>\n",
       "</table>\n",
       "</div>"
      ],
      "text/plain": [
       "     A                 B             \n",
       "     a        b        a        b    \n",
       "  mean std mean std mean std mean std\n",
       "0    1   1    6   6    2   2    7   7\n",
       "1    2   2    7   7    3   3    8   8\n",
       "2    3   3    8   8    4   4    9   9\n",
       "3    4   4    9   9    5   5    1   1\n",
       "4    5   5    1   1    6   6    2   2"
      ]
     },
     "execution_count": 22,
     "metadata": {},
     "output_type": "execute_result"
    }
   ],
   "source": [
    "#This code is for experimenting with mutli-dimensional python dictionaries\n",
    "\n",
    "test_dic = {\n",
    "('A', 'a', \"mean\"): [1, 2, 3, 4, 5],\n",
    "('A', 'a', \"std\"): [1, 2, 3, 4, 5],\n",
    "('A', 'b', \"mean\"): [6, 7, 8, 9, 1],\n",
    "('A', 'b', \"std\"): [6, 7, 8, 9, 1],\n",
    "('B', 'a', \"mean\"): [2, 3, 4, 5, 6],\n",
    "('B', 'a', \"std\"): [2, 3, 4, 5, 6],\n",
    "('B', 'b', \"mean\"): [7, 8, 9, 1, 2],\n",
    "('B', 'b', \"std\"): [7, 8, 9, 1, 2] }\n",
    "\n",
    "pd.DataFrame(test_dic)\n"
   ]
  }
 ],
 "metadata": {
  "interpreter": {
   "hash": "d686fb4bba1cd81d322bac49812b464465e293b78591a47e52bedfb124e592be"
  },
  "kernelspec": {
   "display_name": "Python 3.10.2 64-bit",
   "language": "python",
   "name": "python3"
  },
  "language_info": {
   "codemirror_mode": {
    "name": "ipython",
    "version": 3
   },
   "file_extension": ".py",
   "mimetype": "text/x-python",
   "name": "python",
   "nbconvert_exporter": "python",
   "pygments_lexer": "ipython3",
   "version": "3.10.2"
  },
  "orig_nbformat": 4
 },
 "nbformat": 4,
 "nbformat_minor": 2
}
